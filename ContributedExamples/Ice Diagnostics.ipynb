{
 "cells": [
  {
   "cell_type": "markdown",
   "id": "f463004e",
   "metadata": {},
   "source": [
    "# Ice Diagnostics"
   ]
  },
  {
   "cell_type": "code",
   "execution_count": 1,
   "id": "9d07da3a",
   "metadata": {},
   "outputs": [],
   "source": [
    "from glob import glob\n",
    "import pandas as pd\n",
    "import os\n",
    "import xarray as xr\n",
    "import cartopy\n",
    "import matplotlib.pyplot as plt\n",
    "import numpy as np\n",
    "import cartopy.crs as ccrs\n",
    "import cartopy.feature\n",
    "%matplotlib inline\n",
    "from IPython.display import HTML"
   ]
  },
  {
   "cell_type": "code",
   "execution_count": 2,
   "id": "116002c7",
   "metadata": {},
   "outputs": [],
   "source": [
    "from dask.diagnostics import ProgressBar\n",
    "pbar = ProgressBar()\n",
    "pbar.register()"
   ]
  },
  {
   "cell_type": "code",
   "execution_count": 9,
   "id": "348ef218",
   "metadata": {},
   "outputs": [],
   "source": [
    "DataDir = '/g/data/hh5/tmp/cosima/mom01v5'\n",
    "expt = 'KDS75'"
   ]
  },
  {
   "cell_type": "code",
   "execution_count": 10,
   "id": "03a1a1d8",
   "metadata": {},
   "outputs": [],
   "source": [
    "expdir = os.path.join(DataDir, expt)\n",
    "dataFileList = glob(os.path.join(expdir, 'output*/ice_month.nc'))\n",
    "dataFileList.sort()"
   ]
  },
  {
   "cell_type": "code",
   "execution_count": 11,
   "id": "ba0e70f7",
   "metadata": {},
   "outputs": [],
   "source": [
    "gridFileList = glob(os.path.join(expdir, 'output*/ocean_grid.nc'))\n",
    "gridFileList.sort()"
   ]
  },
  {
   "cell_type": "code",
   "execution_count": 12,
   "id": "e8e958b8-90bf-478e-bd05-3a45bc839dbf",
   "metadata": {},
   "outputs": [
    {
     "name": "stdout",
     "output_type": "stream",
     "text": [
      "[] []\n"
     ]
    }
   ],
   "source": [
    "print(dataFileList, gridFileList)"
   ]
  },
  {
   "cell_type": "code",
   "execution_count": 6,
   "id": "9656b1b5",
   "metadata": {},
   "outputs": [
    {
     "ename": "IndexError",
     "evalue": "list index out of range",
     "output_type": "error",
     "traceback": [
      "\u001b[0;31m---------------------------------------------------------------------------\u001b[0m",
      "\u001b[0;31mIndexError\u001b[0m                                Traceback (most recent call last)",
      "Cell \u001b[0;32mIn[6], line 1\u001b[0m\n\u001b[0;32m----> 1\u001b[0m dsx_grid \u001b[38;5;241m=\u001b[39m xr\u001b[38;5;241m.\u001b[39mopen_dataset(\u001b[43mgridFileList\u001b[49m\u001b[43m[\u001b[49m\u001b[38;5;241;43m0\u001b[39;49m\u001b[43m]\u001b[49m, decode_times\u001b[38;5;241m=\u001b[39m\u001b[38;5;28;01mFalse\u001b[39;00m)\n\u001b[1;32m      2\u001b[0m area_t \u001b[38;5;241m=\u001b[39m dsx_grid\u001b[38;5;241m.\u001b[39marea_t\n",
      "\u001b[0;31mIndexError\u001b[0m: list index out of range"
     ]
    }
   ],
   "source": [
    "dsx_grid = xr.open_dataset(gridFileList[0], decode_times=False)\n",
    "area_t = dsx_grid.area_t"
   ]
  },
  {
   "cell_type": "code",
   "execution_count": null,
   "id": "5959bf62",
   "metadata": {},
   "outputs": [],
   "source": [
    "dsx_grid.area_t.plot()"
   ]
  },
  {
   "cell_type": "markdown",
   "id": "b5dd6e4b",
   "metadata": {},
   "source": [
    "From `diag_table`\n",
    "\n",
    "\n",
    "Saved in `ice_month.nc`\n",
    "\n",
    "CN, HI, HS\n",
    "averaged globally over each month\n"
   ]
  },
  {
   "cell_type": "code",
   "execution_count": null,
   "id": "5bc553eb",
   "metadata": {},
   "outputs": [],
   "source": [
    "dsx = xr.open_mfdataset(dataFileList[:12], decode_times=False, concat_dim='time')"
   ]
  },
  {
   "cell_type": "markdown",
   "id": "a98b7993",
   "metadata": {},
   "source": [
    "There is an outstanding issue with year outside of a given range.  Artificially shift the years to years since 2000."
   ]
  },
  {
   "cell_type": "code",
   "execution_count": null,
   "id": "e8e7c28f",
   "metadata": {},
   "outputs": [],
   "source": [
    "dsx.time.attrs['units'] = 'days since 2000-01-01 00:00:00'\n",
    "dsx.average_T1.attrs['units'] = 'days since 2000-01-01 00:00:00'\n",
    "dsx.average_T2.attrs['units'] = 'days since 2000-01-01 00:00:00'\n",
    "dsx = xr.decode_cf(dsx)"
   ]
  },
  {
   "cell_type": "markdown",
   "id": "a334cfa4",
   "metadata": {},
   "source": [
    "Annual ice volume"
   ]
  },
  {
   "cell_type": "code",
   "execution_count": null,
   "id": "e51c6bea",
   "metadata": {},
   "outputs": [],
   "source": [
    "HI = dsx.sel(yt=slice(-90, -60)).HI\n",
    "south_area_t = area_t.sel(yt_ocean=slice(-90,-60))\n",
    "HI"
   ]
  },
  {
   "cell_type": "code",
   "execution_count": null,
   "id": "b99c88fb",
   "metadata": {},
   "outputs": [],
   "source": [
    "volume = south_area_t.values * HI\n",
    "volume.name = 'Volume'"
   ]
  },
  {
   "cell_type": "code",
   "execution_count": null,
   "id": "9e8cdfe2",
   "metadata": {},
   "outputs": [],
   "source": [
    "volume.sum(dim='yt').sum(dim='xt').plot(marker='o')"
   ]
  },
  {
   "cell_type": "code",
   "execution_count": null,
   "id": "e8d0c071",
   "metadata": {},
   "outputs": [],
   "source": []
  },
  {
   "cell_type": "code",
   "execution_count": null,
   "id": "e9cd5234",
   "metadata": {},
   "outputs": [],
   "source": [
    "import matplotlib as mpl\n",
    "from matplotlib import rc\n",
    "\n",
    "rc('animation', ffmpeg_path='/short/v45/jm0634/conda/envs/my_analysis3/bin/ffmpeg')\n",
    "rc('animation', html='html5')"
   ]
  },
  {
   "cell_type": "code",
   "execution_count": null,
   "id": "2f377335",
   "metadata": {},
   "outputs": [],
   "source": [
    "plt.figure(figsize=[8,8])\n",
    "ax1 = plt.subplot(1,1,1, projection=ccrs.SouthPolarStereo())\n",
    "#ax1.set_extent([-180, 180, -90, -50], ccrs.PlateCarree())\n",
    "ax1.add_feature(cartopy.feature.LAND)\n",
    "#ax1.add_feature(cartopy.feature.OCEAN)\n",
    "ax1.coastlines()\n",
    "#ax1.stock_img()\n",
    "ax1.gridlines()\n",
    "\n",
    "quadmesh = dsx.HI.isel(time=0)\\\n",
    "            .sel(yt=slice(-90, -60))\\\n",
    "            .plot\\\n",
    "            .pcolormesh(ax=ax1, \n",
    "                        transform=ccrs.PlateCarree(),\n",
    "                        vmax=2)"
   ]
  },
  {
   "cell_type": "code",
   "execution_count": null,
   "id": "dbacf1f0",
   "metadata": {},
   "outputs": [],
   "source": [
    "import matplotlib.animation as animation\n",
    "\n",
    "fig = plt.figure(figsize=[8,8])\n",
    "\n",
    "ax1 = plt.subplot(1,1,1, projection=ccrs.SouthPolarStereo())\n",
    "#ax1.set_extent([-180, 180, -90, -50], ccrs.PlateCarree())\n",
    "ax1.add_feature(cartopy.feature.LAND)\n",
    "#ax1.add_feature(cartopy.feature.OCEAN)\n",
    "ax1.coastlines()\n",
    "#ax1.stock_img()\n",
    "ax1.gridlines()\n",
    "\n",
    "quadmesh = dsx.HI.isel(time=0).sel(yt=slice(-90, \n",
    "                                 -60)).plot(ax=ax1, \n",
    "                                            transform=ccrs.PlateCarree(),\n",
    "                                            vmax=2)\n",
    "def animate(i):\n",
    "    print(i)\n",
    "    da = dsx.HI.isel(time=i).sel(yt=slice(-90,-60))\n",
    "    quadmesh.set_array(da.to_masked_array().ravel())\n",
    "    ax1.set_title('time = {}'.format(da.time.values))\n",
    "    return quadmesh, ax1.title\n",
    "\n",
    "def init_func():\n",
    "    return quadmesh,"
   ]
  }
 ],
 "metadata": {
  "kernelspec": {
   "display_name": "Python 3 (ipykernel)",
   "language": "python",
   "name": "python3"
  },
  "language_info": {
   "codemirror_mode": {
    "name": "ipython",
    "version": 3
   },
   "file_extension": ".py",
   "mimetype": "text/x-python",
   "name": "python",
   "nbconvert_exporter": "python",
   "pygments_lexer": "ipython3",
   "version": "3.10.13"
  }
 },
 "nbformat": 4,
 "nbformat_minor": 5
}
